{
 "cells": [
  {
   "cell_type": "markdown",
   "id": "d0108c4a-51f9-4890-a931-c4c3d949fc2c",
   "metadata": {},
   "source": [
    "# Data Science Tools and Ecosystem"
   ]
  },
  {
   "cell_type": "code",
   "execution_count": null,
   "id": "46c6b9ac-0575-475d-8d86-6ebaa38fce5d",
   "metadata": {},
   "outputs": [],
   "source": []
  },
  {
   "cell_type": "markdown",
   "id": "fc877de3-a1a1-45b2-8c81-e76479ea0fea",
   "metadata": {},
   "source": [
    "## In this notebook, Data Science Tools and Ecosystem are summarized."
   ]
  },
  {
   "cell_type": "markdown",
   "id": "a1ce698e-c467-402b-9547-cd75b08c8a66",
   "metadata": {},
   "source": [
    "### **Objectives:**\n",
    "* Popular languages for Data Science\n",
    "* Commonly used libraries by Data Scientists\n",
    "* Data Science Tools"
   ]
  },
  {
   "cell_type": "markdown",
   "id": "50593316-4ec8-4efe-aea0-8dd308437884",
   "metadata": {
    "tags": []
   },
   "source": [
    "Some of the popular languages that Data Scientists use are:\n",
    " 1. Python\n",
    " 2. R language\n",
    "3. SQL"
   ]
  },
  {
   "cell_type": "markdown",
   "id": "8d52fadc-86d0-4e6e-a8fd-05031715f51d",
   "metadata": {},
   "source": [
    "Some of the commonly used libraries used by Data Scientists include:\n",
    "1. Pandas\n",
    "2. Matplotlib\n",
    "3. NumPy\n"
   ]
  },
  {
   "cell_type": "markdown",
   "id": "513a5ed8-e8f5-46a0-9ccd-6a6cf29cae7e",
   "metadata": {},
   "source": [
    "|Data Science Tools|\n",
    "|------------------|\n",
    "|JupyterNotebook|\n",
    "|Python|\n",
    "|R language|\n"
   ]
  },
  {
   "cell_type": "markdown",
   "id": "57df7ac7-9e4a-46c8-b801-160251ffb2ab",
   "metadata": {
    "tags": []
   },
   "source": [
    "### Below are a few examples of evaluating arithmetic expressions in Python."
   ]
  },
  {
   "cell_type": "code",
   "execution_count": 7,
   "id": "3bae2814-3eba-4752-b171-71e319f97fe6",
   "metadata": {
    "tags": []
   },
   "outputs": [],
   "source": [
    "##This a simple arithmetic expression to mutiply then add integers."
   ]
  },
  {
   "cell_type": "code",
   "execution_count": 6,
   "id": "32aeec0d-3b5b-4fb1-a000-426e8d2fdd01",
   "metadata": {
    "tags": []
   },
   "outputs": [
    {
     "data": {
      "text/plain": [
       "17"
      ]
     },
     "execution_count": 6,
     "metadata": {},
     "output_type": "execute_result"
    }
   ],
   "source": [
    "(3*4)+5"
   ]
  },
  {
   "cell_type": "code",
   "execution_count": 8,
   "id": "3bedb367-235f-471e-9b6c-af4f81fa63de",
   "metadata": {
    "tags": []
   },
   "outputs": [],
   "source": [
    "##This will convert 200 minutes to hours by diving by 60."
   ]
  },
  {
   "cell_type": "code",
   "execution_count": 9,
   "id": "d5d5daa0-431d-4d39-8797-95872e9bdb99",
   "metadata": {
    "tags": []
   },
   "outputs": [
    {
     "data": {
      "text/plain": [
       "3.3333333333333335"
      ]
     },
     "execution_count": 9,
     "metadata": {},
     "output_type": "execute_result"
    }
   ],
   "source": [
    "200/60"
   ]
  },
  {
   "cell_type": "markdown",
   "id": "93fc2633-672b-46b1-bf91-6d9f01ad9f64",
   "metadata": {},
   "source": [
    "## Author"
   ]
  },
  {
   "cell_type": "markdown",
   "id": "a8bf9f72-6bb8-4e21-b491-ba2a3304e62c",
   "metadata": {},
   "source": [
    "Sandra Blanuša"
   ]
  },
  {
   "cell_type": "code",
   "execution_count": null,
   "id": "2fa6b26e-ad2a-49a1-b3e1-d8ed6a8f422f",
   "metadata": {},
   "outputs": [],
   "source": []
  }
 ],
 "metadata": {
  "kernelspec": {
   "display_name": "Python",
   "language": "python",
   "name": "conda-env-python-py"
  },
  "language_info": {
   "codemirror_mode": {
    "name": "ipython",
    "version": 3
   },
   "file_extension": ".py",
   "mimetype": "text/x-python",
   "name": "python",
   "nbconvert_exporter": "python",
   "pygments_lexer": "ipython3",
   "version": "3.7.12"
  }
 },
 "nbformat": 4,
 "nbformat_minor": 5
}
